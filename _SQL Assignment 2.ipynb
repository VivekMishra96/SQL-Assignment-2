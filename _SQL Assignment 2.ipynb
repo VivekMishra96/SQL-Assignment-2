{
 "cells": [
  {
   "cell_type": "code",
   "execution_count": null,
   "id": "f3f34b47",
   "metadata": {},
   "outputs": [],
   "source": [
    "Q-1. Write an SQL query to print the first three characters of FIRST_NAME from Worker table."
   ]
  },
  {
   "cell_type": "code",
   "execution_count": null,
   "id": "6c52dc48",
   "metadata": {},
   "outputs": [],
   "source": [
    "#ans.\n",
    "SELECT SUBSTRING(FIRST_NAME,1,3) FROM Worker;"
   ]
  },
  {
   "cell_type": "code",
   "execution_count": null,
   "id": "097a3bbf",
   "metadata": {},
   "outputs": [],
   "source": [
    "Q-2. Write an SQL query to find the position of the alphabet (‘a’) in the first name column ‘Amitabh’ from Worker table."
   ]
  },
  {
   "cell_type": "code",
   "execution_count": null,
   "id": "a64f627f",
   "metadata": {},
   "outputs": [],
   "source": [
    "#ans.\n",
    "# Apporach 1\n",
    "SELECT LOCATE('a',FIRST_NAME) FROM Worker WHERE FIRST_NAME = 'Amitabh';\n",
    "# Approach 2\n",
    "SELECT POSITION('a' IN FIRST_NAME) FROM Worker WHERE FIRST_NAME = 'Amitabh';"
   ]
  },
  {
   "cell_type": "code",
   "execution_count": null,
   "id": "07b522cc",
   "metadata": {},
   "outputs": [],
   "source": [
    "Q-3. Write an SQL query to print the name of employees having the highest salary in each department."
   ]
  },
  {
   "cell_type": "code",
   "execution_count": null,
   "id": "5470ab0b",
   "metadata": {},
   "outputs": [],
   "source": [
    "#ans.\n",
    "SELECT first_name, last_name, salary, department FROM Worker w WHERE salary = (SELECT MAX(salary) FROM Worker WHERE department = w.department)"
   ]
  }
 ],
 "metadata": {
  "kernelspec": {
   "display_name": "Python 3 (ipykernel)",
   "language": "python",
   "name": "python3"
  },
  "language_info": {
   "codemirror_mode": {
    "name": "ipython",
    "version": 3
   },
   "file_extension": ".py",
   "mimetype": "text/x-python",
   "name": "python",
   "nbconvert_exporter": "python",
   "pygments_lexer": "ipython3",
   "version": "3.9.7"
  }
 },
 "nbformat": 4,
 "nbformat_minor": 5
}
